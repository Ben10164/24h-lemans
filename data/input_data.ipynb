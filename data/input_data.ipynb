{
 "cells": [
  {
   "cell_type": "code",
   "execution_count": 67,
   "metadata": {},
   "outputs": [],
   "source": [
    "import pandas as pd\n",
    "import mysql.connector\n",
    "import numpy as np"
   ]
  },
  {
   "cell_type": "code",
   "execution_count": 68,
   "metadata": {},
   "outputs": [],
   "source": [
    "def upload_df_to_mysql(df, host, user, password, database, table_name):\n",
    "    # Connect to MariaDB/MySQL database\n",
    "    conn = mysql.connector.connect(\n",
    "        host=host, user=user, password=password, database=database\n",
    "    )\n",
    "\n",
    "    cursor = conn.cursor()\n",
    "\n",
    "    # Create the table if it doesn't exist\n",
    "    create_table_query = f\"CREATE TABLE IF NOT EXISTS {table_name} ({', '.join([f'{col} VARCHAR(255)' for col in df.columns])})\"\n",
    "    cursor.execute(create_table_query)\n",
    "\n",
    "    # Insert data into the table\n",
    "    for _, row in df.iterrows():\n",
    "        insert_query = f\"INSERT INTO {table_name} ({', '.join(df.columns)}) VALUES ({', '.join(['%s']*len(df.columns))})\"\n",
    "        cursor.execute(insert_query, tuple(row))\n",
    "\n",
    "    # Commit the changes and close the database connection\n",
    "    conn.commit()\n",
    "    cursor.close()\n",
    "    conn.close()"
   ]
  },
  {
   "cell_type": "code",
   "execution_count": 70,
   "metadata": {},
   "outputs": [],
   "source": [
    "# Specify the CSV file, database connection details, and table name\n",
    "csv_file_path = \"results_in.csv\"\n",
    "df = pd.read_csv(csv_file_path, sep=';')\n",
    "df = df.replace(np.nan, 'NULL')"
   ]
  },
  {
   "cell_type": "code",
   "execution_count": null,
   "metadata": {},
   "outputs": [],
   "source": [
    "db_host = \"cps-database.gonzaga.edu\"\n",
    "db_user = \"bpuryear\"\n",
    "db_password = \"bpuryear53901926\"\n",
    "db_name = \"bpuryear_DB\""
   ]
  },
  {
   "cell_type": "markdown",
   "metadata": {},
   "source": [
    "# results"
   ]
  },
  {
   "cell_type": "code",
   "execution_count": null,
   "metadata": {},
   "outputs": [],
   "source": [
    "table_name = \"Results\"\n",
    "\n",
    "# Call the function to import CSV into the MySQL database\n",
    "upload_df_to_mysql(df, db_host, db_user, db_password, db_name, table_name)\n",
    "\n",
    "print(\n",
    "    f\"CSV data successfully imported into the '{table_name}' table in the '{db_name}' database.\"\n",
    ")\n"
   ]
  }
 ],
 "metadata": {
  "kernelspec": {
   "display_name": "24h",
   "language": "python",
   "name": "python3"
  },
  "language_info": {
   "codemirror_mode": {
    "name": "ipython",
    "version": 3
   },
   "file_extension": ".py",
   "mimetype": "text/x-python",
   "name": "python",
   "nbconvert_exporter": "python",
   "pygments_lexer": "ipython3",
   "version": "3.9.18"
  }
 },
 "nbformat": 4,
 "nbformat_minor": 2
}
